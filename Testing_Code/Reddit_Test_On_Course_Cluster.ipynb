{
 "cells": [
  {
   "cell_type": "code",
   "execution_count": 1,
   "id": "53171a31-ee1e-42ba-8b80-dcdcab68c24f",
   "metadata": {},
   "outputs": [
    {
     "name": "stderr",
     "output_type": "stream",
     "text": [
      "Setting default log level to \"WARN\".\n",
      "To adjust logging level use sc.setLogLevel(newLevel). For SparkR, use setLogLevel(newLevel).\n",
      "25/03/06 14:08:53 WARN NativeCodeLoader: Unable to load native-hadoop library for your platform... using builtin-java classes where applicable\n",
      "25/03/06 14:08:53 WARN Utils: Service 'sparkDriver' could not bind on port 9999. Attempting port 10000.\n"
     ]
    }
   ],
   "source": [
    "from pyspark.sql import SparkSession\n",
    "from pyspark.sql.functions import count\n",
    "from pyspark.sql.functions import trim\n",
    "\n",
    "# New API\n",
    "spark_session = SparkSession.builder\\\n",
    "        .master(\"spark://192.168.2.156:7077\") \\\n",
    "        .appName(\"Group 7 Reddit Test Code\")\\\n",
    "        .config(\"spark.dynamicAllocation.enabled\", True)\\\n",
    "        .config(\"spark.dynamicAllocation.shuffleTracking.enabled\",True)\\\n",
    "        .config(\"spark.shuffle.service.enabled\", False)\\\n",
    "        .config(\"spark.dynamicAllocation.executorIdleTimeout\",\"30s\")\\\n",
    "        .config(\"spark.executor.cores\", 2)\\\n",
    "        .config(\"spark.dynamicAllocation.maxExecutors\", 4)\\\n",
    "        .config(\"spark.driver.port\",9999)\\\n",
    "        .config(\"spark.blockManager.port\",10005)\\\n",
    "        .getOrCreate()\n",
    "\n",
    "\n",
    "# Old API (RDD)\n",
    "spark_context = spark_session.sparkContext\n",
    "spark_context.setLogLevel(\"ERROR\")"
   ]
  },
  {
   "cell_type": "code",
   "execution_count": 2,
   "id": "e6a47c74-d8be-4134-8fe4-3b5e43d5e610",
   "metadata": {},
   "outputs": [
    {
     "name": "stderr",
     "output_type": "stream",
     "text": [
      "[Stage 0:=====================================================> (144 + 3) / 147]"
     ]
    },
    {
     "name": "stdout",
     "output_type": "stream",
     "text": [
      "root\n",
      " |-- author: string (nullable = true)\n",
      " |-- body: string (nullable = true)\n",
      " |-- content: string (nullable = true)\n",
      " |-- content_len: long (nullable = true)\n",
      " |-- id: string (nullable = true)\n",
      " |-- normalizedBody: string (nullable = true)\n",
      " |-- subreddit: string (nullable = true)\n",
      " |-- subreddit_id: string (nullable = true)\n",
      " |-- summary: string (nullable = true)\n",
      " |-- summary_len: long (nullable = true)\n",
      " |-- title: string (nullable = true)\n",
      "\n"
     ]
    },
    {
     "name": "stderr",
     "output_type": "stream",
     "text": [
      "                                                                                "
     ]
    }
   ],
   "source": [
    "#reading in the reddit data from the corpus which was the suggested dataset\n",
    "df = spark_session.read.json(\"hdfs://192.168.2.156:9000/data/reddit/corpus-webis-tldr-17.json\")\n",
    "df.printSchema()"
   ]
  },
  {
   "cell_type": "code",
   "execution_count": 4,
   "id": "055fc64f-275a-4a41-a322-b4357591f90e",
   "metadata": {},
   "outputs": [
    {
     "data": {
      "text/plain": [
       "147"
      ]
     },
     "execution_count": 4,
     "metadata": {},
     "output_type": "execute_result"
    }
   ],
   "source": [
    "df.rdd.getNumPartitions()"
   ]
  },
  {
   "cell_type": "code",
   "execution_count": 5,
   "id": "a153258d-07b5-40b2-9b1a-e26a72ab48d2",
   "metadata": {
    "scrolled": true
   },
   "outputs": [
    {
     "name": "stderr",
     "output_type": "stream",
     "text": [
      "[Stage 1:>                                                          (0 + 1) / 1]"
     ]
    },
    {
     "name": "stdout",
     "output_type": "stream",
     "text": [
      "+------------------+--------------------+--------------------+-----------+-------+--------------------+--------------------+------------+--------------------+-----------+--------+\n",
      "|            author|                body|             content|content_len|     id|      normalizedBody|           subreddit|subreddit_id|             summary|summary_len|   title|\n",
      "+------------------+--------------------+--------------------+-----------+-------+--------------------+--------------------+------------+--------------------+-----------+--------+\n",
      "|  raysofdarkmatter|I think it should...|I think it should...|        178|c69al3r|I think it should...|                math|    t5_2qh0n|Shifting seasonal...|          8|    NULL|\n",
      "|           Stork13|Art is about the ...|Art is about the ...|        148|c6a9nxd|Art is about the ...|               funny|    t5_2qh33|Personal opinions...|          4|    NULL|\n",
      "|     Cloud_dreamer|Ask me what I thi...|Ask me what I thi...|         76|c6acx4l|Ask me what I thi...|         Borderlands|    t5_2r8cd|insults and slack...|         73|    NULL|\n",
      "|     NightlyReaper|In Mechwarrior On...|In Mechwarrior On...|        213|c8onqew|In Mechwarrior On...|            gamingpc|    t5_2sq2y|Yes, Joysticks in...|         19|    NULL|\n",
      "|    NuffZetPand0ra|You are talking a...|You are talking a...|        404|c6acxvc|You are talking a...|              Diablo|    t5_2qore|Class only items ...|          7|D2 help?|\n",
      "|beatlecreedcabaret|All but one of my...|All but one of my...|        130|c6ahuc4|All but one of my...|   RedditLaqueristas|    t5_2se5q|      OPI Nail Envy!|          3|    NULL|\n",
      "|      nobodysdiary|I could give a sh...|I could give a sh...|        156|c6aggux|I could give a sh...|               apple|    t5_2qh1f|I don't drive lik...|         18|    NULL|\n",
      "|          chrom_ed|So you're saying ...|So you're saying ...|        134|c6agxtv|So you're saying ...|               apple|    t5_2qh1f|you don't seem to...|          9|    NULL|\n",
      "|      gadzookfilms|I love this idea ...|I love this idea ...|        126|c6asb7p|I love this idea ...|RedditFilmsProduc...|    t5_2v33h|How we make money...|          9|    NULL|\n",
      "|      iamacannibal|Theres an entire ...|Theres an entire ...|        181|c6aveyw|Theres an entire ...|       AbandonedPorn|    t5_2sh6t|I'll try and get ...|         25|    NULL|\n",
      "| splagaticusxoxo97|FALSE. Evidence: ...|FALSE. Evidence: ...|        124|c6bacqq|FALSE. Evidence: ...|             atheism|    t5_2qh2p|dont fuck with re...|          6|    NULL|\n",
      "|           orthzar|If the number of ...|If the number of ...|         12|c6b83kp|If the number of ...|              quotes|    t5_2qhdx|                  no|          1|    NULL|\n",
      "|          phyzishy|Yeah, but most fo...|Yeah, but most fo...|         75|c6b52m8|Yeah, but most fo...|           AskReddit|    t5_2qh1i|       stupid stuff.|          2|    NULL|\n",
      "|          Wheelman|As an entrepreneu...|As an entrepreneu...|         78|c6b34c2|As an entrepreneu...|     personalfinance|    t5_2qstm|get a good CPA - ...|         14|    NULL|\n",
      "|        slagahthor|i guess the way I...|i guess the way I...|        323|c6b9gqo|i guess the way I...|             Animals|    t5_2qi0c|Dog neglected for...|          7|    NULL|\n",
      "|        Perservere|Didn't they lose ...|Didn't they lose ...|         86|c6bftvc|Didn't they lose ...|     leagueoflegends|    t5_2rfxx|just because you'...|         23|    NULL|\n",
      "|       fallsuspect|You probably won'...|You probably won'...|         79|c6bncqn|You probably won'...|           AskReddit|    t5_2qh1i|just get both of ...|         11|    NULL|\n",
      "|          captain0|To simply say tha...|To simply say tha...|        328|c6btcx4|To simply say tha...|              videos|    t5_2qh1e| Oppan Gangnam Style|          3|    NULL|\n",
      "|    Buck_Speedjunk|This picture does...|This picture does...|         18|c6c4uks|This picture does...|               trees|    t5_2r9vp|It's a half-assed...|         13|    NULL|\n",
      "|        FrankManic|And that is, hand...|And that is, hand...|         57|c6c7pgn|And that is, hand...|               Games|    t5_2qhwp|Play balance is f...|         13|    NULL|\n",
      "+------------------+--------------------+--------------------+-----------+-------+--------------------+--------------------+------------+--------------------+-----------+--------+\n",
      "only showing top 20 rows\n",
      "\n"
     ]
    },
    {
     "name": "stderr",
     "output_type": "stream",
     "text": [
      "                                                                                "
     ]
    }
   ],
   "source": [
    "df.show()"
   ]
  },
  {
   "cell_type": "code",
   "execution_count": null,
   "id": "3649ea4c-c17d-472a-a570-fec6748321df",
   "metadata": {},
   "outputs": [
    {
     "name": "stderr",
     "output_type": "stream",
     "text": [
      "[Stage 2:================================>                       (85 + 8) / 147]"
     ]
    }
   ],
   "source": [
    "#number of reddit posts we have\n",
    "df.count()"
   ]
  },
  {
   "cell_type": "code",
   "execution_count": null,
   "id": "736a9622-6566-4393-b423-9a9076559f93",
   "metadata": {},
   "outputs": [],
   "source": [
    "#lets group by subreddit and count the number of posts in each subreddit\n",
    "df_subreddit = df.groupBy(df.subreddit).count().orderBy(\"count\", ascending = False)"
   ]
  },
  {
   "cell_type": "code",
   "execution_count": 15,
   "id": "5887c6d0-d370-425a-b786-4bd54693b7ac",
   "metadata": {},
   "outputs": [
    {
     "name": "stderr",
     "output_type": "stream",
     "text": [
      "[Stage 5:======================================================>(146 + 1) / 147]"
     ]
    },
    {
     "name": "stdout",
     "output_type": "stream",
     "text": [
      "+-------------------+------+\n",
      "|          subreddit| count|\n",
      "+-------------------+------+\n",
      "|          AskReddit|589947|\n",
      "|      relationships|352049|\n",
      "|    leagueoflegends|109307|\n",
      "|               tifu| 52219|\n",
      "|relationship_advice| 50416|\n",
      "|              trees| 47286|\n",
      "|             gaming| 43851|\n",
      "|            atheism| 43268|\n",
      "|      AdviceAnimals| 40783|\n",
      "|              funny| 40171|\n",
      "|           politics| 36518|\n",
      "|               pics| 35098|\n",
      "|                sex| 28806|\n",
      "|                WTF| 25781|\n",
      "|  explainlikeimfive| 25482|\n",
      "|      todayilearned| 25004|\n",
      "|            Fitness| 22694|\n",
      "|               IAmA| 22689|\n",
      "|          worldnews| 22577|\n",
      "|              DotA2| 22405|\n",
      "+-------------------+------+\n",
      "only showing top 20 rows\n",
      "\n"
     ]
    },
    {
     "name": "stderr",
     "output_type": "stream",
     "text": [
      "                                                                                "
     ]
    }
   ],
   "source": [
    "#get the most popular subreddits based on number of posts\n",
    "df_subreddit.show()"
   ]
  },
  {
   "cell_type": "code",
   "execution_count": 16,
   "id": "32cf41bb-5619-4c35-8c48-a5af295f1cc2",
   "metadata": {},
   "outputs": [
    {
     "name": "stderr",
     "output_type": "stream",
     "text": [
      "                                                                                "
     ]
    },
    {
     "data": {
      "text/plain": [
       "271.93096278125836"
      ]
     },
     "execution_count": 16,
     "metadata": {},
     "output_type": "execute_result"
    }
   ],
   "source": [
    "#look at the average content length\n",
    "from pyspark.sql.functions import avg\n",
    "df.select(avg(\"content_len\")).collect()[0][0]"
   ]
  },
  {
   "cell_type": "code",
   "execution_count": 19,
   "id": "0cdf5787-7d74-4def-a8e5-1b62df3ecdf2",
   "metadata": {
    "scrolled": true
   },
   "outputs": [],
   "source": [
    "df_askReddit = df.where(df.subreddit == 'AskReddit') "
   ]
  },
  {
   "cell_type": "code",
   "execution_count": 20,
   "id": "ed700868-5885-42c8-b8d1-2e720ae0df5a",
   "metadata": {},
   "outputs": [
    {
     "name": "stdout",
     "output_type": "stream",
     "text": [
      "+----------------+--------------------+--------------------+-----------+-------+--------------------+---------+------------+--------------------+-----------+--------------------+\n",
      "|          author|                body|             content|content_len|     id|      normalizedBody|subreddit|subreddit_id|             summary|summary_len|               title|\n",
      "+----------------+--------------------+--------------------+-----------+-------+--------------------+---------+------------+--------------------+-----------+--------------------+\n",
      "|        phyzishy|Yeah, but most fo...|Yeah, but most fo...|         75|c6b52m8|Yeah, but most fo...|AskReddit|    t5_2qh1i|       stupid stuff.|          2|                NULL|\n",
      "|     fallsuspect|You probably won'...|You probably won'...|         79|c6bncqn|You probably won'...|AskReddit|    t5_2qh1i|just get both of ...|         11|                NULL|\n",
      "|    SinglesRazor|I want to say thi...|I want to say thi...|        375|c6c72m7|I want to say thi...|AskReddit|    t5_2qh1i|   Fuck Slender Man.|          3|                NULL|\n",
      "|         leep420|I take a beta blo...|I take a beta blo...|        219|c6c7tdy|I take a beta blo...|AskReddit|    t5_2qh1i|Butchered daughte...|         27|                NULL|\n",
      "|          fahmah|About two months ...|About two months ...|         78|c6c87vg|About two months ...|AskReddit|    t5_2qh1i|        Aliens, man.|          2|                NULL|\n",
      "|       Handsyboy|While I was under...|While I was under...|        356|c6cbz9a|While I was under...|AskReddit|    t5_2qh1i|Dreamed I woke up...|         17|                NULL|\n",
      "|      OptimusRye|Long one, \\n\\nI w...|Long one, \\n I wa...|        300|c6ccsq8|Long one, \\n I wa...|AskReddit|    t5_2qh1i|series of unrelat...|         13|                NULL|\n",
      "|  YuukiDaZeroFan|Serial killer kid...|Serial killer kid...|        118|c6cetcg|Serial killer kid...|AskReddit|    t5_2qh1i|I had a nightmare...|         16|                NULL|\n",
      "|     HonestAbe33|This is back when...|This is back when...|        182|c6cklgh|This is back when...|AskReddit|    t5_2qh1i|don't listen to d...|         10|                NULL|\n",
      "|thegoodweretaken|I was hanging out...|I was hanging out...|        153|c6c8fu1|I was hanging out...|AskReddit|    t5_2qh1i|I dreamed about b...|         33|                NULL|\n",
      "|     shoopdedoop|I used to work fo...|I used to work fo...|        124|c6dk5pn|I used to work fo...|AskReddit|    t5_2qh1i|I knocked Susan L...|          7|                NULL|\n",
      "|          Caronc|I am a little lat...|I am a little lat...|        282|c6dyl4t|I am a little lat...|AskReddit|    t5_2qh1i|After years of be...|         19|                NULL|\n",
      "| dannywarbucks11|My then 10 month ...|My then 10 month ...|        142|c6e3891|My then 10 month ...|AskReddit|    t5_2qh1i|My 10 month old m...|         10|                NULL|\n",
      "|          gl1guy|when my kids were...|when my kids were...|        246|c6e5ue6|when my kids were...|AskReddit|    t5_2qh1i|4th grader beat a...|         10|                NULL|\n",
      "|  Bearwithablunt|My dad is a CFO a...|My dad is a CFO a...|        398|c6dywpe|My dad is a CFO a...|AskReddit|    t5_2qh1i|talked a bully (m...|         14|                NULL|\n",
      "|  IceVonShredula|I feel obliged to...|I feel obliged to...|        228|c6dyc1v|I feel obliged to...|AskReddit|    t5_2qh1i|DMT is a drug unl...|         78|                NULL|\n",
      "|    wesleypipes2|this is going to ...|this is going to ...|        922|c6fb69r|this is going to ...|AskReddit|    t5_2qh1i|Did mushrooms tha...|          6|                NULL|\n",
      "| iceman_in_black|I (a guy) was tal...|I (a guy) was tal...|        180|c6fimgo|I (a guy) was tal...|AskReddit|    t5_2qh1i|I'm sure it's ext...|         26|                NULL|\n",
      "|      Spanky4321|Well, lets see. I...|Well, lets see. I...|        230|c6hsgsp|Well, lets see. I...|AskReddit|    t5_2qh1i|Bitches are crazy...|         11|                NULL|\n",
      "|         nzerguy|Best tip I can gi...|Best tip I can gi...|         87|c6ifghh|Best tip I can gi...|AskReddit|    t5_2qh1i|Find some fightin...|          7|Some drunk dude a...|\n",
      "+----------------+--------------------+--------------------+-----------+-------+--------------------+---------+------------+--------------------+-----------+--------------------+\n",
      "only showing top 20 rows\n",
      "\n"
     ]
    }
   ],
   "source": [
    "df_askReddit.show()"
   ]
  },
  {
   "cell_type": "code",
   "execution_count": 21,
   "id": "a6a56c1b-3273-4b90-9639-a5967ebe7609",
   "metadata": {},
   "outputs": [],
   "source": [
    "#find the most frequent user in the most popular subreddit\n",
    "df_askReddit_most_frequent_user = df_askReddit.groupBy(df_askReddit.author).count().orderBy(\"count\", ascending = False)"
   ]
  },
  {
   "cell_type": "code",
   "execution_count": 22,
   "id": "70f0b701-5f65-4659-9ddf-ff76e49ab753",
   "metadata": {},
   "outputs": [
    {
     "name": "stderr",
     "output_type": "stream",
     "text": [
      "[Stage 12:=====================================================>(146 + 1) / 147]"
     ]
    },
    {
     "name": "stdout",
     "output_type": "stream",
     "text": [
      "+-------------------+-----+\n",
      "|             author|count|\n",
      "+-------------------+-----+\n",
      "|          [deleted]|29118|\n",
      "|    RamsesThePigeon|  700|\n",
      "|          redweasel|  245|\n",
      "|         Viperbunny|  205|\n",
      "|          laterdude|  150|\n",
      "|            cobysev|  126|\n",
      "|            DesCo83|  125|\n",
      "|     Business-Socks|  124|\n",
      "|           mortaine|  108|\n",
      "|   Fearlessleader85|  108|\n",
      "|Late_Night_Grumbler|  102|\n",
      "|      bowhunter_fta|  101|\n",
      "|         MadLintElf|  101|\n",
      "|       josiahpapaya|   98|\n",
      "|       HalfysReddit|   94|\n",
      "|             Lots42|   93|\n",
      "| lil-praying-mantis|   84|\n",
      "|        cromemako83|   83|\n",
      "|     IrrelevantTLDR|   83|\n",
      "|           m_bishop|   80|\n",
      "+-------------------+-----+\n",
      "only showing top 20 rows\n",
      "\n"
     ]
    },
    {
     "name": "stderr",
     "output_type": "stream",
     "text": [
      "                                                                                "
     ]
    }
   ],
   "source": [
    "df_askReddit_most_frequent_user.show()"
   ]
  },
  {
   "cell_type": "markdown",
   "id": "a2d09636-a723-4a88-bc89-f901d495c011",
   "metadata": {},
   "source": [
    "Most Frequent user is [deleted] but this doesn't count. Next most frequent user is RamsesThePigeon. Let's look at some of their posts"
   ]
  },
  {
   "cell_type": "code",
   "execution_count": 24,
   "id": "742cef51-ff26-4c97-8afa-1846934ad062",
   "metadata": {},
   "outputs": [],
   "source": [
    "df_frequent_user = df_askReddit.where(df_askReddit.author == 'RamsesThePigeon') "
   ]
  },
  {
   "cell_type": "code",
   "execution_count": 40,
   "id": "a96f18ca-9826-4102-82b2-7634255ccfd4",
   "metadata": {},
   "outputs": [
    {
     "name": "stderr",
     "output_type": "stream",
     "text": [
      "                                                                                "
     ]
    }
   ],
   "source": [
    "#get the rdd of the content from this user\n",
    "rdd = df_frequent_user.select(df_frequent_user.content).rdd\n",
    "#store it locally since we now have a smaller dataset\n",
    "content = rdd.collect()"
   ]
  },
  {
   "cell_type": "code",
   "execution_count": 56,
   "id": "7aa05b74-f8b1-4bd1-acd7-991e7313c109",
   "metadata": {},
   "outputs": [
    {
     "data": {
      "text/plain": [
       "'Gandalf \\n \"You\\'re an idiot,\" you might say. \"Or, at the very least, you misread the question.\" \\n Everyone views Gandalf as being a hero. Sure, the fellow might seem a little bit aloof at times, but that\\'s only because he\\'s working behind the scenes to ensure victory for The Fellowship (or for Thorin and Company, depending on which story you\\'re trying to follow). Even when his own life is on the line, the wizard known as Mithrandir was willing to sacrifice himself for the good of his compatriots. \\n Here\\'s the thing, though: Via a series of various of events that were  seemingly  beyond his control, Gandalf managed to ensure that he was the most powerful being in all of Middle Earth. \\n First of all, we know that Gandalf was one of five wizards in the known world, the most powerful of which was Saruman. He was ostensibly tasked with making sure that Sauron - the floating eyeball dude who made The One Ring - didn\\'t get up to too much mischief... and in the course of that quest, he prompted the other wizards to leave his plane of existence. Hell, even Gandalf\\'s  own  death only resulted in him gaining greater power, which allowed him to subtly manipulate things to cause the fall of his greatest rival. \\n More telling than that, however, is the way in which the wizard keeps his thralls from ever learning too much about him or his intentions. Nigh-on every piece of knowledge that they gain comes through Gandalf in one way or another, and those tidbits that they learn from other parties have very little to do with him. Furthermore, the once-grey wizard makes certain to maintain a reputation for being selfless and helpful, which is better than any propaganda that others might put forth. \\n With the destruction of The One Ring, the defeat of Saruman, and the final death of Sauron, Gandalf has ensured that his only potential aggressors are those who wouldn\\'t want to challenge him anyway. In fact, those people who could stand a chance at besting him have already adopted the habit of either unquestioningly following his advice or sailing away from the place that he has claimed. The wizard effectively controls the whole of Middle Earth, and yet maintains the appearance of being a largely uninvolved entity who does whatever the hell he wants. \\n Perhaps the most telling detail of his success, though, is that so few people even consider the possibility that Gandalf could have been a villain... which makes him the most effective and intelligent of them all.'"
      ]
     },
     "execution_count": 56,
     "metadata": {},
     "output_type": "execute_result"
    }
   ],
   "source": [
    "import numpy as np\n",
    "content = np.array(content).flatten()\n",
    "content[99][:]"
   ]
  },
  {
   "cell_type": "code",
   "execution_count": 9,
   "id": "f5a73c25-473e-489a-beb9-2ca818646895",
   "metadata": {},
   "outputs": [],
   "source": [
    " spark_session.stop()"
   ]
  }
 ],
 "metadata": {
  "kernelspec": {
   "display_name": "Python 3 (ipykernel)",
   "language": "python",
   "name": "python3"
  },
  "language_info": {
   "codemirror_mode": {
    "name": "ipython",
    "version": 3
   },
   "file_extension": ".py",
   "mimetype": "text/x-python",
   "name": "python",
   "nbconvert_exporter": "python",
   "pygments_lexer": "ipython3",
   "version": "3.10.12"
  }
 },
 "nbformat": 4,
 "nbformat_minor": 5
}
