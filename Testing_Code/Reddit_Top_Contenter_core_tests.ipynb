{
 "cells": [
  {
   "cell_type": "code",
   "execution_count": null,
   "id": "53171a31-ee1e-42ba-8b80-dcdcab68c24f",
   "metadata": {},
   "outputs": [],
   "source": [
    "from pyspark.sql import SparkSession\n",
    "from pyspark.sql.functions import count\n",
    "from pyspark.sql.functions import trim\n",
    "\n",
    "import time\n",
    "\n",
    "t0 = time.time()\n",
    "\n",
    "\n",
    "# New API\n",
    "spark_session = SparkSession.builder\\\n",
    "        .master(\"spark://192.168.2.156:7077\") \\\n",
    "        .appName(\"Abbe group 7 test code\")\\\n",
    "        .config(\"spark.dynamicAllocation.enabled\", True)\\\n",
    "        .config(\"spark.dynamicAllocation.shuffleTracking.enabled\",True)\\\n",
    "        .config(\"spark.shuffle.service.enabled\", False)\\\n",
    "        .config(\"spark.dynamicAllocation.executorIdleTimeout\",\"30s\")\\\n",
    "        .config(\"spark.executor.cores\", 4)\\\n",
    "        .config(\"spark.dynamicAllocation.maxExecutors\", 4)\\\n",
    "        .config(\"spark.driver.port\",9999)\\\n",
    "        .config(\"spark.blockManager.port\",10005)\\\n",
    "        .getOrCreate()\n",
    "\n",
    "\n",
    "# Old API (RDD)\n",
    "spark_context = spark_session.sparkContext\n",
    "spark_context.setLogLevel(\"ERROR\")"
   ]
  },
  {
   "cell_type": "code",
   "execution_count": null,
   "id": "e6a47c74-d8be-4134-8fe4-3b5e43d5e610",
   "metadata": {},
   "outputs": [],
   "source": [
    "#reading in the reddit data from the corpus which was the suggested dataset\n",
    "df = spark_session.read.json(\"hdfs://192.168.2.156:9000/data/reddit/corpus-webis-tldr-17.json\")"
   ]
  },
  {
   "cell_type": "code",
   "execution_count": null,
   "id": "8344a18b-b466-402a-88f0-f4e9d5b604c4",
   "metadata": {},
   "outputs": [],
   "source": [
    "# get the top five contributers\n",
    "df_subreddit = df.groupBy(df.subreddit).count().orderBy(\"count\", ascending = False).limit(5)\n",
    "df_subreddit.show()"
   ]
  },
  {
   "cell_type": "code",
   "execution_count": null,
   "id": "947c7e32-1178-4f20-9771-6353385c6b1a",
   "metadata": {},
   "outputs": [],
   "source": [
    "# filter for just subreddits\n",
    "df_filtered = df.join(df_subreddit, on=\"subreddit\", how=\"inner\")"
   ]
  },
  {
   "cell_type": "code",
   "execution_count": null,
   "id": "ed93d717-a20e-4fd4-ac58-5c232adf0d0b",
   "metadata": {},
   "outputs": [],
   "source": [
    "# group by author and subreddit and count posts per author\n",
    "df_authors = df_filtered.groupBy(\"subreddit\", \"author\").count()"
   ]
  },
  {
   "cell_type": "code",
   "execution_count": null,
   "id": "58ab1ba8-c15b-44d8-a362-44a19870fcf6",
   "metadata": {},
   "outputs": [],
   "source": [
    "from pyspark.sql import functions as F\n",
    "\n",
    "# take the top 5 contributers for each subreddit\n",
    "subreddits = [row[\"subreddit\"] for row in df_subreddit.collect()]  \n",
    "top_authors_list = []\n",
    "\n",
    "for subreddit in subreddits:\n",
    "    df_top = (\n",
    "        df_authors.filter((F.col(\"subreddit\") == subreddit) & (F.col(\"author\") != \"[deleted]\"))  # filter for one subreddit at a time\n",
    "        .orderBy(F.desc(\"count\"))  # sort\n",
    "        .limit(5) \n",
    "    )\n",
    "    top_authors_list.append(df_top)\n",
    "\n",
    "# join the results together\n",
    "df_top_authors = top_authors_list[0]\n",
    "for df_top in top_authors_list[1:]:\n",
    "    df_top_authors = df_top_authors.union(df_top)\n",
    "\n",
    "df_top_authors.show()"
   ]
  },
  {
   "cell_type": "code",
   "execution_count": null,
   "id": "3b4a5dc3-369b-4f2b-bb4d-cc650cd05c58",
   "metadata": {},
   "outputs": [],
   "source": [
    "t1 = time.time()\n",
    "\n",
    "total = t1-t0\n",
    "\n",
    "print(\"Total time\", total)"
   ]
  },
  {
   "cell_type": "code",
   "execution_count": 7,
   "id": "f5a73c25-473e-489a-beb9-2ca818646895",
   "metadata": {},
   "outputs": [],
   "source": [
    "spark_session.stop()"
   ]
  },
  {
   "cell_type": "code",
   "execution_count": null,
   "id": "3d0eb64d-d88c-4db4-9363-cef29f51293d",
   "metadata": {},
   "outputs": [],
   "source": []
  }
 ],
 "metadata": {
  "kernelspec": {
   "display_name": "Python 3 (ipykernel)",
   "language": "python",
   "name": "python3"
  },
  "language_info": {
   "codemirror_mode": {
    "name": "ipython",
    "version": 3
   },
   "file_extension": ".py",
   "mimetype": "text/x-python",
   "name": "python",
   "nbconvert_exporter": "python",
   "pygments_lexer": "ipython3",
   "version": "3.10.12"
  }
 },
 "nbformat": 4,
 "nbformat_minor": 5
}
